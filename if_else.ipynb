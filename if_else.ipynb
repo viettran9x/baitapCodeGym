{
 "cells": [
  {
   "cell_type": "markdown",
   "id": "83b8ca69-7f47-465d-8920-538d4e9d1641",
   "metadata": {},
   "source": [
    "Bài 1: Viết chương trình nhập vào tổng giá trị đơn hàng. Nếu tổng giá trị đơn hàng lớn hơn 2tr vnd giảm giá 10%"
   ]
  },
  {
   "cell_type": "code",
   "execution_count": 2,
   "id": "92cb424d-afa3-47f3-aa1f-ac09bf68a07a",
   "metadata": {},
   "outputs": [
    {
     "name": "stdin",
     "output_type": "stream",
     "text": [
      "Nhập tổng giá trị đơn hàng:  30000000\n"
     ]
    },
    {
     "name": "stdout",
     "output_type": "stream",
     "text": [
      "Đơn hàng sau khi giảm giá:  27000000.0\n"
     ]
    }
   ],
   "source": [
    "total_amount = int(input(\"Nhập tổng giá trị đơn hàng: \"))\n",
    "\n",
    "if total_amount > 2000000 :\n",
    "    discount = 0.1 * total_amount\n",
    "    total_amount -= discount\n",
    "    print(\"Đơn hàng sau khi giảm giá: \", total_amount)\n",
    "else:\n",
    "    print(\"Đơn hàng: \", total_amount)"
   ]
  },
  {
   "cell_type": "markdown",
   "id": "687c38fc-1a6f-45d8-a0a7-f0629543ebb1",
   "metadata": {},
   "source": [
    "bài 2: Viết chương trình nhập vào môn học hiện tại. Nếu môn học là python thì in ra \"Im studying Python"
   ]
  },
  {
   "cell_type": "code",
   "execution_count": 4,
   "id": "f62f1f4a-9f97-44e4-9c93-d3a2f2906203",
   "metadata": {},
   "outputs": [
    {
     "name": "stdin",
     "output_type": "stream",
     "text": [
      "Nhập môn học:  java\n"
     ]
    },
    {
     "name": "stdout",
     "output_type": "stream",
     "text": [
      "Môn chưa học\n"
     ]
    }
   ],
   "source": [
    "course = input(\"Nhập môn học: \")\n",
    "\n",
    "if course == \"python\":\n",
    "    print(\"Im studying python\")\n",
    "else:\n",
    "    print(\"Môn chưa học\")"
   ]
  },
  {
   "cell_type": "markdown",
   "id": "48a9fe0a-d7cd-4747-bb4b-ab5ed374150f",
   "metadata": {},
   "source": [
    "bài 3: Viết chương trình nhập tuổi của một người và cho biết người đó đủ 18 chưa"
   ]
  },
  {
   "cell_type": "code",
   "execution_count": 5,
   "id": "97d0aba7-17b2-4376-ba37-c97d81726a72",
   "metadata": {},
   "outputs": [
    {
     "name": "stdin",
     "output_type": "stream",
     "text": [
      "Nhập tuôi:  12\n"
     ]
    },
    {
     "name": "stdout",
     "output_type": "stream",
     "text": [
      "Chưa đủ 18 tuổi\n"
     ]
    }
   ],
   "source": [
    "age = int(input(\"Nhập tuôi: \"))\n",
    "\n",
    "if age >= 18:\n",
    "    print(\"Đã đủ 18 tuôi\")\n",
    "else:\n",
    "    print(\"Chưa đủ 18 tuổi\")"
   ]
  },
  {
   "cell_type": "markdown",
   "id": "a232579a-fb1f-4237-8f0e-aedbd0c97e46",
   "metadata": {},
   "source": [
    "Bài 4: Viết chương trình nhập 1 số nguyên và cho biết sô nguyên đó là số chẵn hay số lể"
   ]
  },
  {
   "cell_type": "code",
   "execution_count": 8,
   "id": "792d5a35-a9c7-49ee-b57a-f5ebeef01ac1",
   "metadata": {},
   "outputs": [
    {
     "name": "stdin",
     "output_type": "stream",
     "text": [
      "Nhập số nguyên:  5\n"
     ]
    },
    {
     "name": "stdout",
     "output_type": "stream",
     "text": [
      "Đây là số nguyên lẻ\n"
     ]
    }
   ],
   "source": [
    "n = int(input(\"Nhập số nguyên: \"))\n",
    "\n",
    "if n%2==0:\n",
    "    print(\"Đây là số nguyên chẵn\")\n",
    "else:\n",
    "    print(\"Đây là số nguyên lẻ\")"
   ]
  },
  {
   "cell_type": "markdown",
   "id": "ac34e649-3750-481c-91d6-49fba1c0b221",
   "metadata": {},
   "source": [
    "Bài 5: Viết chương trình nhập vào chuỗi và cho biết trong chuỗi đó có chứa cụm từ \"python\" hay không"
   ]
  },
  {
   "cell_type": "code",
   "execution_count": 10,
   "id": "5b0cf906-b0d9-4048-927e-4492e18d9db9",
   "metadata": {},
   "outputs": [
    {
     "name": "stdin",
     "output_type": "stream",
     "text": [
      "Nhập chuỗi:  java la mon toi dang hoc\n"
     ]
    },
    {
     "name": "stdout",
     "output_type": "stream",
     "text": [
      "python không có trong chuỗi trên\n"
     ]
    }
   ],
   "source": [
    "str = input(\"Nhập chuỗi: \")\n",
    "\n",
    "if \"python\" in str:\n",
    "    print(\"python có trong chuỗi trên\")\n",
    "else:\n",
    "    print(\"python không có trong chuỗi trên\")"
   ]
  },
  {
   "cell_type": "markdown",
   "id": "ba3f8031-fda1-405f-a987-b47fdf48d69f",
   "metadata": {},
   "source": [
    "Bài 6: Viết chương trình nhập số từ 2 đến 8 rồi in ra số ngày trong tuần"
   ]
  },
  {
   "cell_type": "code",
   "execution_count": 12,
   "id": "02b7b70f-6cbb-4a27-b44b-a12599eed5ac",
   "metadata": {},
   "outputs": [
    {
     "name": "stdin",
     "output_type": "stream",
     "text": [
      "Nhập số từ 2 đến 8:  3\n"
     ]
    },
    {
     "name": "stdout",
     "output_type": "stream",
     "text": [
      "Tuesday\n"
     ]
    }
   ],
   "source": [
    "day = int(input(\"Nhập số từ 2 đến 8: \"))\n",
    "\n",
    "if day == 2:\n",
    "    print(\"Monday\")\n",
    "elif day == 3:\n",
    "    print(\"Tuesday\")\n",
    "elif day == 4:\n",
    "    print(\"Wednesday\")\n",
    "elif day == 5:\n",
    "    print(\"Thursday\")\n",
    "elif day == 6:\n",
    "    print(\"Friday\")\n",
    "elif day == 7:\n",
    "    print(\"Saturday\")\n",
    "elif day == 8:\n",
    "    print(\"Sunday\")"
   ]
  },
  {
   "cell_type": "markdown",
   "id": "9c81a8eb-f1fe-43ec-ac97-3f9a47dfc6c4",
   "metadata": {},
   "source": [
    "Bài 7: Viết chương trình nhập vào số tháng trong năm và cho biết tháng đó có bao nhiêu ngày"
   ]
  },
  {
   "cell_type": "code",
   "execution_count": null,
   "id": "54c486c4-5328-4fd5-aef8-ef653a1d9ad1",
   "metadata": {},
   "outputs": [],
   "source": [
    "month = int(input(\"nhập tháng trong năm: \"))\n",
    "year = int(input(\"Nhập năm: \"))\n",
    "\n",
    "if month == 1:\n",
    "    print(\"Tháng có 31 ngày: \")\n",
    "elif month == 2:\n",
    "    if year % 400 == 0 or (nam % 4 == 0 and nam % 100 != 0):\n",
    "        print(\"Tháng có 28 ngày\")\n",
    "    else:\n",
    "        print(\"Tháng có 29 ngày\")\n",
    "elif month == 3:\n",
    "    print"
   ]
  }
 ],
 "metadata": {
  "kernelspec": {
   "display_name": "Python 3 (ipykernel)",
   "language": "python",
   "name": "python3"
  },
  "language_info": {
   "codemirror_mode": {
    "name": "ipython",
    "version": 3
   },
   "file_extension": ".py",
   "mimetype": "text/x-python",
   "name": "python",
   "nbconvert_exporter": "python",
   "pygments_lexer": "ipython3",
   "version": "3.12.3"
  }
 },
 "nbformat": 4,
 "nbformat_minor": 5
}
