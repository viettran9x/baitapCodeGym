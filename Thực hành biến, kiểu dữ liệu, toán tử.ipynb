{
 "cells": [
  {
   "cell_type": "markdown",
   "id": "704ae268-f554-408c-9e89-88cae99a7425",
   "metadata": {},
   "source": [
    "Bài 1:\n",
    "\n",
    "Viết chương trình nhập 2 số nguyên num1 và num2. In ra tích 2 số nguyên đó"
   ]
  },
  {
   "cell_type": "code",
   "execution_count": null,
   "id": "ba785bb9-53aa-4644-9fd3-f1d8c4a32cad",
   "metadata": {},
   "outputs": [],
   "source": [
    "num1 = int(input(\"Nhập số thứ nhất: \"))\n",
    "num2 = int(input(\"Nhập số thứ 2: \"))\n",
    "\n",
    "print(\"tính hai số: \", num1 * num2)"
   ]
  },
  {
   "cell_type": "markdown",
   "id": "fdfe50a0-4c44-4a37-9f52-e9e8017e5d2c",
   "metadata": {},
   "source": [
    "Bài 2: Nhập 3 điểm toán, lý, hóa. tính điểm trung bình"
   ]
  },
  {
   "cell_type": "code",
   "execution_count": null,
   "id": "83d672e8-4f98-4f37-a1e9-5933676b1a60",
   "metadata": {},
   "outputs": [],
   "source": [
    "toan = int(input(\"nhập điểm toán: \"))\n",
    "ly = int(input(\"nhập điểm lý: \"))\n",
    "hoa = int(input(\"nhập điểm hóa: \"))\n",
    "avg = (toan + ly + hoa)/3\n",
    "print(\"điểm trung bình 3 môn: \", avg)"
   ]
  },
  {
   "cell_type": "markdown",
   "id": "f4b2030c-d819-4387-9ab1-de227048dcfe",
   "metadata": {},
   "source": [
    "bài 3: Nhập vào vận tốc của đoàn tàu theo đơn vị km/h\n",
    "a. Hỏi trung bình mỗi phút đoàn tàu đi được bao nhiêu m\n",
    "b. sau 1h20 đoàn tàu đi được bao nhiêu km"
   ]
  },
  {
   "cell_type": "code",
   "execution_count": 4,
   "id": "3f610d63-82c2-4b1e-81f9-8bafdf84fad7",
   "metadata": {},
   "outputs": [
    {
     "name": "stdin",
     "output_type": "stream",
     "text": [
      "Nhập vận tốc đoàn tàu (KM/h):  33\n"
     ]
    },
    {
     "name": "stdout",
     "output_type": "stream",
     "text": [
      "trung binh mỗi phút tàu đi được: 550.0 m \n",
      "Quãng đường sau khi tàu đi được 1h20: 39.6 km\n"
     ]
    }
   ],
   "source": [
    "vkm = int(input(\"Nhập vận tốc đoàn tàu (KM/h): \"))\n",
    "vm = vkm * 1000/60\n",
    "print(f\"trung binh mỗi phút tàu đi được: {vm} m \")\n",
    "\n",
    "b = vkm / 60 * 72\n",
    "print(f\"Quãng đường sau khi tàu đi được 1h20: {b} km\")"
   ]
  }
 ],
 "metadata": {
  "kernelspec": {
   "display_name": "Python 3 (ipykernel)",
   "language": "python",
   "name": "python3"
  },
  "language_info": {
   "codemirror_mode": {
    "name": "ipython",
    "version": 3
   },
   "file_extension": ".py",
   "mimetype": "text/x-python",
   "name": "python",
   "nbconvert_exporter": "python",
   "pygments_lexer": "ipython3",
   "version": "3.12.3"
  }
 },
 "nbformat": 4,
 "nbformat_minor": 5
}
